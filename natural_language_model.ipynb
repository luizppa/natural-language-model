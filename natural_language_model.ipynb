{
 "cells": [
  {
   "cell_type": "markdown",
   "id": "74df6502",
   "metadata": {},
   "source": [
    "# Word2Vec\n",
    "\n",
    "The Word2Vec technique is a method for obtaining and word embeding suitable for natural language processing, such as finding synonyms, making analogies and suggesting missing words for a sentence. It uses a neural network to learn from a large text (or corpus) am build a n-dimensional space containing one vector for each word on the training vocabulary.\n",
    "\n",
    "This technique is relatively recent, being first published by a team of Google researches in 2013. The two main algorithms applied are skipgram and cbow. In both cases, we use a set of hyperparams, such as number of features in the word embeding (or the dimensionality of each word vector), the number of epochs and the size of our context window, to define the way our language model will be trained.\n",
    "\n",
    "The objective of this notebook, is to explore how the variation of these hyperparameters will affect the accuracy of our model. The following implementation was made using gensim. It covers the training and validation of various models, however, **it does not cover any kind of sophisticated text lemmatization**, since we are using an already noralized corpus. Needless to say, that is not the real word scenario in most cases, therefore, any pratical implementation of Word2Vec should take this into account."
   ]
  },
  {
   "cell_type": "code",
   "execution_count": 44,
   "id": "4f51cd77",
   "metadata": {
    "scrolled": false
   },
   "outputs": [
    {
     "name": "stderr",
     "output_type": "stream",
     "text": [
      "[nltk_data] Downloading package stopwords to /Users/eem/nltk_data...\n",
      "[nltk_data]   Package stopwords is already up-to-date!\n"
     ]
    }
   ],
   "source": [
    "import math\n",
    "import sys\n",
    "import numpy as np\n",
    "import pandas as pd\n",
    "import itertools\n",
    "from time import time, sleep\n",
    "import multiprocessing\n",
    "\n",
    "# File management\n",
    "from io import BytesIO\n",
    "from zipfile import ZipFile\n",
    "from urllib.request import urlopen\n",
    "from os import path, remove, mkdir\n",
    "\n",
    "# NLP\n",
    "from gensim.models import Word2Vec\n",
    "from gensim.models.word2vec import Text8Corpus\n",
    "from gensim.test.utils import datapath\n",
    "import spacy\n",
    "import nltk\n",
    "nltk.download('stopwords')\n",
    "\n",
    "# Data analisis\n",
    "from matplotlib import pyplot as plt\n",
    "from sklearn.manifold import TSNE\n",
    "\n",
    "try:\n",
    "    mkdir('models')\n",
    "except:\n",
    "    pass"
   ]
  },
  {
   "cell_type": "code",
   "execution_count": 2,
   "id": "4b33341f",
   "metadata": {},
   "outputs": [],
   "source": [
    "def progress_bar(done = 0, total = 100):\n",
    "    progress = 20*(done/total)\n",
    "    sys.stdout.write('\\r')\n",
    "    sys.stdout.write(\"[%-20s] %d%%\" % ('='*math.floor(progress), 5*progress))\n",
    "    sys.stdout.flush()\n",
    "    if done == total:\n",
    "        print('')"
   ]
  },
  {
   "cell_type": "markdown",
   "id": "0f918060",
   "metadata": {},
   "source": [
    "## Downloading the corpus\n",
    "\n",
    "The first thing we got to do is to download the corpus we will be using to train our model. Here we will use a text of lowercase and unponctuated englih words supported by gensim as standard. The file is 100MB long, so it wont be included on the repository, nevertheless, the code bellow should perform the propper configuration."
   ]
  },
  {
   "cell_type": "code",
   "execution_count": 3,
   "id": "1378245f",
   "metadata": {
    "scrolled": false
   },
   "outputs": [
    {
     "name": "stdout",
     "output_type": "stream",
     "text": [
      " anarchism originated as a term of abuse first used against early working class radicals including the diggers of the english revolution and the sans culottes of the french revolution whilst the term is still used in a pejorative way to describe any act that used violent means to destroy the organization of society it has also been taken up as a positive label by self defined anarchists the word anarchism is derived from the greek without archons ruler chief king anarchism as a political philosophy is the belief that rulers are unnecessary and should be abolished although there are differing interpretations of what this means anarchism also refers to related social movements that advocate the elimination of authoritarian institutions particularly the state the word anarchy as most anarchists use it does not imply chaos nihilism or anomie but rather a harmonious anti authoritarian society in place of what are regarded as authoritarian political structures and coercive economic institutions anarchists advocate \n"
     ]
    }
   ],
   "source": [
    "corpus_uri = 'http://mattmahoney.net/dc/text8.zip'\n",
    "target_name = './corpus.txt'\n",
    "corpus_language = 'english'\n",
    "\n",
    "if not path.exists(target_name):\n",
    "    try:\n",
    "        resp = urlopen(corpus_uri)\n",
    "        file = ZipFile(BytesIO(resp.read()))\n",
    "\n",
    "        target_file = open(target_name, 'w')\n",
    "        for line in file.open(file.namelist()[0]).readlines():\n",
    "            target_file.write(line.decode('utf-8'))\n",
    "        target_file.close()\n",
    "    except:\n",
    "        if path.exists(target_name):\n",
    "            remove(target_name)\n",
    "            \n",
    "corpus = open(target_name, 'r')\n",
    "content = corpus.read()\n",
    "print(content[:1024])"
   ]
  },
  {
   "cell_type": "markdown",
   "id": "47823457",
   "metadata": {},
   "source": [
    "## Pre processing\n",
    "\n",
    "Our text is mostly normalized, so all we are going to do is break the text into sentences (using gensim standard support) and remove stopwords using the natural language toolkit library group of english stopwords."
   ]
  },
  {
   "cell_type": "code",
   "execution_count": 4,
   "id": "573d5f80",
   "metadata": {},
   "outputs": [],
   "source": [
    "# Split text into sentences\n",
    "stopwords = nltk.corpus.stopwords.words('english')\n",
    "sentences = list(itertools.islice(Text8Corpus(target_name),None))\n",
    "sentences = [[word for word in sentence if word not in stopwords] for sentence in sentences]"
   ]
  },
  {
   "cell_type": "markdown",
   "id": "012e60a0",
   "metadata": {},
   "source": [
    "## Creating and training the language model\n",
    "\n",
    "The following functions are used for building the vocabulary and training our models. We will have a set of 108 combinations of parametres for each algorithm, therefore we will have to train 216 models. Each model takes a few minutes to train so it would be a very time consuming process to run each time. Gladly, gensim allows us to save our models into files, so we only have to train the models once.\n",
    "\n",
    "The code will then verify if for a given set of hyperparameters a model was already created, if so, it will simply load the model from its file."
   ]
  },
  {
   "cell_type": "code",
   "execution_count": 5,
   "id": "75cc717a",
   "metadata": {},
   "outputs": [],
   "source": [
    "def build_vocabulary(model, sentences):\n",
    "    t = time()\n",
    "    model.build_vocab(sentences, progress_per=10000)\n",
    "    return time() - t\n",
    "\n",
    "def train(model, sentences, epochs, corpus_size):\n",
    "    t = time()\n",
    "    model.train(sentences, total_examples=corpus_size, epochs=epochs, report_delay=1)\n",
    "    return time() - t\n",
    "\n",
    "def build_model(sentences, min_count, window, vector_size, alpha, epochs, sg, corpus_size, model_name):\n",
    "    cores = multiprocessing.cpu_count()\n",
    "    model = Word2Vec(min_count=min_count, window=window, vector_size=vector_size, alpha=0.001, workers=cores-1, sg=sg)\n",
    "    corpus_size = model.corpus_count if corpus_size == 0 else corpus_size\n",
    "    \n",
    "    t = 0\n",
    "    t = t + build_vocabulary(model, sentences)\n",
    "    t = t + train(model, sentences, epochs, corpus_size)\n",
    "    \n",
    "    model.save(model_name)\n",
    "    return t\n",
    "    \n",
    "def get_model_name(sg, window, vector_size, epochs, corpus_size, min_count):\n",
    "    return \"./models/{sg}-{window}-{vector_size}-{epochs}-{corpus_size}-{min_count}.model\".format(\n",
    "        sg = 'skipgram' if sg == 1 else 'cbow',\n",
    "        window = window,\n",
    "        vector_size = vector_size,\n",
    "        epochs = epochs,\n",
    "        corpus_size = corpus_size,\n",
    "        min_count = min_count\n",
    "    )\n",
    "    \n",
    "def build_if_not_exists(sentences, sg=1, window=2, vector_size=100, epochs=30, corpus_size=0, min_count=50):\n",
    "    model_name = get_model_name(sg, window, vector_size, epochs, corpus_size, min_count)\n",
    "    \n",
    "    if not path.isfile(model_name):\n",
    "        return build_model(\n",
    "            sentences = sentences,\n",
    "            min_count = min_count,\n",
    "            window = window,\n",
    "            vector_size = vector_size,\n",
    "            alpha = 0.001,\n",
    "            epochs = epochs,\n",
    "            sg = sg,\n",
    "            corpus_size = corpus_size,\n",
    "            model_name = model_name\n",
    "        )\n",
    "    else:\n",
    "        return 0\n",
    "    \n",
    "def get_model(corpus_size, sg=1, window=2, vector_size=100, epochs=30, min_count=50):\n",
    "    model_name = get_model_name(sg, window, vector_size, epochs, corpus_size, min_count)\n",
    "    \n",
    "    if path.isfile(model_name):\n",
    "        return Word2Vec.load(model_name).wv\n",
    "    else:\n",
    "        raise KeyError('Model not trained')"
   ]
  },
  {
   "cell_type": "markdown",
   "id": "db37a662",
   "metadata": {},
   "source": [
    "### Parameters\n",
    "\n",
    "For the hyperparameters to be tunned we will have:\n",
    "\n",
    "1. vector_sizes, wich indicates the number of features in each word embeding of the model\n",
    "2. windows, which reffers to the size of the context use to evaluate the sentences during training\n",
    "3. min_counts, which is the number of times a word must apear in the corpus to be present on the vocabulary\n",
    "4. corpus_sizes, which is the number of sentences from our corpus that will be considered for training\n",
    "5. the number of epochs performed during training\n",
    "\n",
    "each one of the parameters will have three values and each value will be evenly permutated generating 108 combinations."
   ]
  },
  {
   "cell_type": "code",
   "execution_count": 6,
   "id": "92f444c3",
   "metadata": {},
   "outputs": [],
   "source": [
    "vector_sizes = [50, 300]\n",
    "windows = [2, 5, 10]\n",
    "min_counts = [10, 30, 50]\n",
    "corpus_sizes = [math.floor(len(sentences)*.5), len(sentences)]\n",
    "epochs = [10, 20, 30]\n",
    "\n",
    "params = [list(i) for i in itertools.product(windows, vector_sizes, epochs, corpus_sizes, min_counts)]"
   ]
  },
  {
   "cell_type": "code",
   "execution_count": 7,
   "id": "2c3a12a3",
   "metadata": {},
   "outputs": [],
   "source": [
    "def train_with_params(sentences, algorithm, params):\n",
    "    done = 0\n",
    "    total = len(params)\n",
    "    t = 0\n",
    "    algorithm_name = 'skipgram' if algorithm == 1 else 'cbow'\n",
    "    print('Training {} models:'.format(algorithm_name))\n",
    "    progress_bar(done, total)\n",
    "\n",
    "    for param in params:\n",
    "        t = t + build_if_not_exists(sentences, algorithm, param[0], param[1], param[2], param[3], param[4])\n",
    "        done = done + 1\n",
    "        progress_bar(done, total)\n",
    "\n",
    "    minutes = math.floor(t/60)\n",
    "    hours = math.floor(minutes/60)\n",
    "    minutes = minutes % 60\n",
    "    print('Took {} hours and {} minutes to make {} {} models'.format(hours, minutes, done, algorithm_name))"
   ]
  },
  {
   "cell_type": "code",
   "execution_count": 8,
   "id": "c1aacde3",
   "metadata": {
    "scrolled": true
   },
   "outputs": [
    {
     "name": "stdout",
     "output_type": "stream",
     "text": [
      "Training skipgram models:\n",
      "[====================] 100%\n",
      "Took 0 hours and 0 minutes to make 108 skipgram models\n"
     ]
    }
   ],
   "source": [
    "# Skipgram\n",
    "train_with_params(sentences, 1, params)"
   ]
  },
  {
   "cell_type": "code",
   "execution_count": 9,
   "id": "d2f243d1",
   "metadata": {
    "scrolled": true
   },
   "outputs": [
    {
     "name": "stdout",
     "output_type": "stream",
     "text": [
      "Training cbow models:\n",
      "[====================] 100%\n",
      "Took 0 hours and 0 minutes to make 108 cbow models\n"
     ]
    }
   ],
   "source": [
    "# Cbow\n",
    "train_with_params(sentences, 0, params)"
   ]
  },
  {
   "cell_type": "markdown",
   "id": "25319f50",
   "metadata": {},
   "source": [
    "## Analogies\n",
    "\n",
    "With our model trained, we can query for analog words. Take for example the pair germany and berlin, there is a clear relation between them, so if we were to provide a third word, it is to be expected that the model will return a fourth word bearing the same relation with the third word as the second did to the first, in this case, supose we input the word france, a reasonable answer would be paris, since paris is to france as berlin is to germany.\n",
    "\n",
    "This is shown bellow."
   ]
  },
  {
   "cell_type": "code",
   "execution_count": 10,
   "id": "a87e308a",
   "metadata": {},
   "outputs": [],
   "source": [
    "def analogy(model, word, is_to, as_word):\n",
    "    result = model.most_similar(negative=[word], positive=[is_to, as_word])\n",
    "    return result[0][0]"
   ]
  },
  {
   "cell_type": "code",
   "execution_count": 42,
   "id": "d3f49472",
   "metadata": {},
   "outputs": [
    {
     "name": "stdout",
     "output_type": "stream",
     "text": [
      "germany is to berlin as france is to: paris\n",
      "sun is to star as earth is to: planet\n",
      "man is to father as woman is to: mother\n",
      "frederick is to king as elizabeth is to: queen\n",
      "car is to road as boat is to: shore\n",
      "fast is to faster as easy is to: easier\n",
      "small is to big as good is to: bad\n"
     ]
    }
   ],
   "source": [
    "model = get_model(corpus_size=len(sentences), sg=1, window=10, vector_size=300, epochs=30, min_count=10)\n",
    "print('germany is to berlin as france is to: {}'.format(analogy(model, 'germany', 'berlin', 'france')))\n",
    "print('sun is to star as earth is to: {}'.format(analogy(model, 'sun', 'star', 'earth')))\n",
    "print('man is to father as woman is to: {}'.format(analogy(model, 'man', 'father', 'woman')))\n",
    "print('frederick is to king as elizabeth is to: {}'.format(analogy(model, 'frederick', 'king', 'elizabeth')))\n",
    "print('car is to road as boat is to: {}'.format(analogy(model, 'car', 'road', 'boat')))\n",
    "print('fast is to faster as easy is to: {}'.format(analogy(model, 'fast', 'faster', 'easy')))\n",
    "print('small is to big as good is to: {}'.format(analogy(model, 'small', 'big', 'good')))"
   ]
  },
  {
   "cell_type": "markdown",
   "id": "84e53218",
   "metadata": {},
   "source": [
    "Of course, it does not always work..."
   ]
  },
  {
   "cell_type": "code",
   "execution_count": 12,
   "id": "9edc7f8a",
   "metadata": {},
   "outputs": [
    {
     "name": "stdout",
     "output_type": "stream",
     "text": [
      "hat is to head as shirt is to: severed\n"
     ]
    }
   ],
   "source": [
    "print('hat is to head as shirt is to: {}'.format(analogy(model, 'hat', 'head', 'shirt')))"
   ]
  },
  {
   "cell_type": "markdown",
   "id": "c5496191",
   "metadata": {},
   "source": [
    "And we also have some undesired bias..."
   ]
  },
  {
   "cell_type": "code",
   "execution_count": 13,
   "id": "71541f5b",
   "metadata": {},
   "outputs": [
    {
     "name": "stdout",
     "output_type": "stream",
     "text": [
      "man is to doctor as woman is to: nurse\n"
     ]
    }
   ],
   "source": [
    "print('man is to doctor as woman is to: {}'.format(analogy(model, 'man', 'doctor', 'woman')))"
   ]
  },
  {
   "cell_type": "markdown",
   "id": "d2c10ddb",
   "metadata": {},
   "source": [
    "The way this works is that we expect words that share the a same relation will have a similar distance from each other in our embeds. Lets say that each word is represented by an n-dimensional vector, if $u$ is the vector that represents germany, $v$ is the vector for berlin and $w$ is the vector for france, a word that is to france as berlin is to germany would be close to a vector $x$ obtained by:\n",
    "\n",
    "$$\n",
    "x = (u - v) + w\n",
    "$$\n",
    "\n",
    "This way we can expect that the vector for the word paris would be one of the closest vectors from $x$. This happends on a n-dimensional space, 300-dimensional space in our case, so we can not visualize it properly, however, we can plot a projection of the vectors on an 2-dimensional or 3-dimensional space and have an idea of what it looks like."
   ]
  },
  {
   "cell_type": "code",
   "execution_count": 14,
   "id": "538b4fd9",
   "metadata": {},
   "outputs": [],
   "source": [
    "def plane_projection(model, words):\n",
    "    embedings = [model[v] for v in words]\n",
    "    return TSNE(n_components=2, learning_rate='auto', init='random', random_state=30).fit_transform(np.array(embedings))\n",
    "\n",
    "def plot_arrow(u, v=None, **kwargs):\n",
    "    if v is None:\n",
    "        plt.arrow(x=0, y=0, dx=u[0], dy=u[1])\n",
    "    else:\n",
    "        plt.arrow(x=u[0], y=u[1], dx=v[0]-u[0], dy=v[1]-u[1], **kwargs)"
   ]
  },
  {
   "cell_type": "code",
   "execution_count": 15,
   "id": "0145a72e",
   "metadata": {
    "scrolled": false
   },
   "outputs": [],
   "source": [
    "words = ['germany', 'berlin', 'france', 'paris']\n",
    "vectors = plane_projection(model, words)\n",
    "u, v, w, x = vectors\n",
    "offset = 2"
   ]
  },
  {
   "cell_type": "code",
   "execution_count": 16,
   "id": "b1e62d68",
   "metadata": {},
   "outputs": [
    {
     "data": {
      "image/png": "[encoded data removed]",
      "text/plain": [
       "<Figure size 1000x400 with 1 Axes>"
      ]
     },
     "metadata": {
      "needs_background": "light"
     },
     "output_type": "display_data"
    }
   ],
   "source": [
    "plt.figure(figsize=(10, 4), dpi=100)\n",
    "\n",
    "for i in range(3):\n",
    "    vec = vectors[i]\n",
    "    word = words[i]\n",
    "    plot_arrow(vec)\n",
    "    plt.scatter(vec[0], vec[1], color='black')\n",
    "    plt.text(vec[0]+offset, vec[1]+offset, word, fontsize=9)\n",
    "\n",
    "plot_arrow(u, v, color='red', ls='--')\n",
    "\n",
    "plt.title('Analogy of words in language model')\n",
    "plt.show()"
   ]
  },
  {
   "cell_type": "markdown",
   "id": "8ddfc92b",
   "metadata": {},
   "source": [
    "On the image above, we can see a 2D representation for the words germany, and france and paris as well as the difference between germany and berlin (in red). Below you can see how we get a vector similar to paris if we deslocate the diference between germany and berlin to france."
   ]
  },
  {
   "cell_type": "code",
   "execution_count": 17,
   "id": "96163a9d",
   "metadata": {},
   "outputs": [
    {
     "data": {
      "image/png": "[encoded data removed]",
      "text/plain": [
       "<Figure size 1000x400 with 1 Axes>"
      ]
     },
     "metadata": {
      "needs_background": "light"
     },
     "output_type": "display_data"
    }
   ],
   "source": [
    "plt.figure(figsize=(10, 4), dpi=100)\n",
    "\n",
    "for i in range(4):\n",
    "    vec = vectors[i]\n",
    "    word = words[i]\n",
    "    plot_arrow(vec)\n",
    "    plt.scatter(vec[0], vec[1], color='black')\n",
    "    plt.text(vec[0]+offset, vec[1]+offset, word, fontsize=9)\n",
    "\n",
    "plot_arrow(w, (u-v+w), color='red', ls='--')\n",
    "\n",
    "plt.title('Analogy of words in language model')\n",
    "plt.show()"
   ]
  },
  {
   "cell_type": "markdown",
   "id": "e4daf2be",
   "metadata": {},
   "source": [
    "You can verify that this behaviour is reproducted for every analog term."
   ]
  },
  {
   "cell_type": "code",
   "execution_count": 18,
   "id": "af24edf9",
   "metadata": {},
   "outputs": [],
   "source": [
    "def plot_analogies(model, words):\n",
    "    vectors = plane_projection(model, words)\n",
    "    \n",
    "    for i in range(0, len(words), 2):\n",
    "        u, v = vectors[i:i+2]\n",
    "        plot_arrow(u, v)\n",
    "        plt.scatter(u[0], u[1], color='black')\n",
    "        plt.text(u[0]+offset, u[1]+offset, words[i], fontsize=9)\n",
    "        \n",
    "        plt.scatter(v[0], v[1], color='black')\n",
    "        plt.text(v[0]+offset, v[1]+offset, words[i+1], fontsize=9)"
   ]
  },
  {
   "cell_type": "code",
   "execution_count": 19,
   "id": "6dad1948",
   "metadata": {},
   "outputs": [
    {
     "data": {
      "image/png": "[encoded data removed]",
      "text/plain": [
       "<Figure size 1000x400 with 1 Axes>"
      ]
     },
     "metadata": {
      "needs_background": "light"
     },
     "output_type": "display_data"
    }
   ],
   "source": [
    "plt.figure(figsize=(10, 4), dpi=100)\n",
    "plot_analogies(model, [\n",
    "    'italy', 'rome',\n",
    "    'japan', 'tokyo',\n",
    "    'canada', 'ontario',\n",
    "    'switzerland', 'bern'\n",
    "])\n",
    "plt.title('Projection of distance between analog vectors in a 2D space')\n",
    "plt.show()"
   ]
  },
  {
   "cell_type": "markdown",
   "id": "551337fc",
   "metadata": {},
   "source": [
    "Although we have some divergence on a few cases like canada/ontario, this is mostly due to the fact that we are projecting a 300-dimensional vector on a plane.\n",
    "\n",
    "We can use this caracteristic to measure the accuracy of our model. Given a collection of pre stablished analogies, we will provide the first three words and search the model's reponse for the fourth. Keep in mind that the output of the model is not a single word as the exemples above, it is an array of probabilities, and each component of the array will be accounted for during the accuracy measure, this will also be done by gensim."
   ]
  },
  {
   "cell_type": "code",
   "execution_count": 20,
   "id": "20d72ed6",
   "metadata": {},
   "outputs": [],
   "source": [
    "# Download test analogies\n",
    "analogies_uri = 'https://raw.githubusercontent.com/nicholas-leonard/word2vec/master/questions-words.txt'\n",
    "analogies_file_name = 'questions-words.txt'\n",
    "\n",
    "if not path.exists(analogies_file_name):\n",
    "    try:\n",
    "        resp = urlopen(analogies_uri)\n",
    "        file = open(analogies_file_name, 'wb')\n",
    "        file.write(resp.read())\n",
    "        file.close()\n",
    "    except:\n",
    "        if path.exists(analogies_file_name):\n",
    "            remove(analogies_uri)"
   ]
  },
  {
   "cell_type": "code",
   "execution_count": 21,
   "id": "10e23827",
   "metadata": {},
   "outputs": [],
   "source": [
    "def test_model(sg, window, vector_size, epochs, corpus_size, min_count):\n",
    "    model = get_model(corpus_size, sg, window, vector_size, epochs, min_count)\n",
    "    analogy_scores = model.evaluate_word_analogies(datapath(analogies_file_name))\n",
    "    return analogy_scores[0]"
   ]
  },
  {
   "cell_type": "markdown",
   "id": "c69685fd",
   "metadata": {},
   "source": [
    "The following script will be renspondible for performing the test for each model and saving the results to a dataframe, it even has a nice progress bar. This also takes quite a lot of time, so we will save the dataframes to a csv file so we can load it later."
   ]
  },
  {
   "cell_type": "code",
   "execution_count": 22,
   "id": "9395a14f",
   "metadata": {},
   "outputs": [],
   "source": [
    "def test_models(params, results_file_name='accuracy.csv'):\n",
    "    accuracy_df = pd.DataFrame(columns=['algorithm', 'window', 'vector size', 'epochs', 'corpus size', 'min count', 'accuracy'])\n",
    "\n",
    "    if not path.exists(results_file_name):\n",
    "        total = len(params)\n",
    "\n",
    "        # Skipgram\n",
    "        done = 0\n",
    "        print('Skipgram test progress:')\n",
    "        progress_bar(done, total)\n",
    "        for param in params:\n",
    "            try:\n",
    "                accuracy = test_model(sg=1, window=param[0], vector_size=param[1], epochs=param[2], corpus_size=param[3], min_count=param[4])\n",
    "                data = {\n",
    "                    'algorithm': 'skipgram',\n",
    "                    'window': param[0],\n",
    "                    'vector size': param[1],\n",
    "                    'epochs': param[2],\n",
    "                    'corpus size': param[3],\n",
    "                    'min count': param[4],\n",
    "                    'accuracy': accuracy\n",
    "                }\n",
    "                accuracy_df = accuracy_df.append(data, ignore_index=True)\n",
    "            except KeyError:\n",
    "                pass\n",
    "            \n",
    "            done = done + 1\n",
    "            progress_bar(done, total)\n",
    "        print('')\n",
    "\n",
    "        # Cbow\n",
    "        done = 0\n",
    "        print('Cbow test progress:')\n",
    "        progress_bar(done, total)\n",
    "        for param in params:\n",
    "            try:\n",
    "                accuracy = test_model(sg=0, window=param[0], vector_size=param[1], epochs=param[2], corpus_size=param[3], min_count=param[4])\n",
    "                data = {\n",
    "                    'algorithm': 'cbow',\n",
    "                    'window': param[0],\n",
    "                    'vector size': param[1],\n",
    "                    'epochs': param[2],\n",
    "                    'corpus size': param[3],\n",
    "                    'min count': param[4],\n",
    "                    'accuracy': accuracy\n",
    "                }\n",
    "                accuracy_df = accuracy_df.append(data, ignore_index=True)\n",
    "            except KeyError:\n",
    "                pass\n",
    "            \n",
    "            done = done + 1\n",
    "            progress_bar(done, total)\n",
    "\n",
    "        # Save results\n",
    "        results_file = open(results_file_name, 'w')\n",
    "        results_file.write(accuracy_df.to_csv())\n",
    "        results_file.close()\n",
    "    else:\n",
    "        accuracy_df = pd.read_csv(results_file_name, index_col=[0])\n",
    "        \n",
    "    return accuracy_df"
   ]
  },
  {
   "cell_type": "code",
   "execution_count": 23,
   "id": "c10d32b8",
   "metadata": {},
   "outputs": [
    {
     "data": {
      "text/html": [
       "<div>\n",
       "<style scoped>\n",
       "    .dataframe tbody tr th:only-of-type {\n",
       "        vertical-align: middle;\n",
       "    }\n",
       "\n",
       "    .dataframe tbody tr th {\n",
       "        vertical-align: top;\n",
       "    }\n",
       "\n",
       "    .dataframe thead th {\n",
       "        text-align: right;\n",
       "    }\n",
       "</style>\n",
       "<table border=\"1\" class=\"dataframe\">\n",
       "  <thead>\n",
       "    <tr style=\"text-align: right;\">\n",
       "      <th></th>\n",
       "      <th>algorithm</th>\n",
       "      <th>window</th>\n",
       "      <th>vector size</th>\n",
       "      <th>epochs</th>\n",
       "      <th>corpus size</th>\n",
       "      <th>min count</th>\n",
       "      <th>accuracy</th>\n",
       "    </tr>\n",
       "  </thead>\n",
       "  <tbody>\n",
       "    <tr>\n",
       "      <th>0</th>\n",
       "      <td>skipgram</td>\n",
       "      <td>2</td>\n",
       "      <td>50</td>\n",
       "      <td>10</td>\n",
       "      <td>850</td>\n",
       "      <td>10</td>\n",
       "      <td>0.019171</td>\n",
       "    </tr>\n",
       "    <tr>\n",
       "      <th>1</th>\n",
       "      <td>skipgram</td>\n",
       "      <td>2</td>\n",
       "      <td>50</td>\n",
       "      <td>10</td>\n",
       "      <td>850</td>\n",
       "      <td>30</td>\n",
       "      <td>0.027940</td>\n",
       "    </tr>\n",
       "    <tr>\n",
       "      <th>2</th>\n",
       "      <td>skipgram</td>\n",
       "      <td>2</td>\n",
       "      <td>50</td>\n",
       "      <td>10</td>\n",
       "      <td>850</td>\n",
       "      <td>50</td>\n",
       "      <td>0.033333</td>\n",
       "    </tr>\n",
       "    <tr>\n",
       "      <th>3</th>\n",
       "      <td>skipgram</td>\n",
       "      <td>2</td>\n",
       "      <td>50</td>\n",
       "      <td>10</td>\n",
       "      <td>1701</td>\n",
       "      <td>10</td>\n",
       "      <td>0.022657</td>\n",
       "    </tr>\n",
       "    <tr>\n",
       "      <th>4</th>\n",
       "      <td>skipgram</td>\n",
       "      <td>2</td>\n",
       "      <td>50</td>\n",
       "      <td>10</td>\n",
       "      <td>1701</td>\n",
       "      <td>30</td>\n",
       "      <td>0.031580</td>\n",
       "    </tr>\n",
       "    <tr>\n",
       "      <th>...</th>\n",
       "      <td>...</td>\n",
       "      <td>...</td>\n",
       "      <td>...</td>\n",
       "      <td>...</td>\n",
       "      <td>...</td>\n",
       "      <td>...</td>\n",
       "      <td>...</td>\n",
       "    </tr>\n",
       "    <tr>\n",
       "      <th>211</th>\n",
       "      <td>cbow</td>\n",
       "      <td>10</td>\n",
       "      <td>300</td>\n",
       "      <td>30</td>\n",
       "      <td>850</td>\n",
       "      <td>30</td>\n",
       "      <td>0.105843</td>\n",
       "    </tr>\n",
       "    <tr>\n",
       "      <th>212</th>\n",
       "      <td>cbow</td>\n",
       "      <td>10</td>\n",
       "      <td>300</td>\n",
       "      <td>30</td>\n",
       "      <td>850</td>\n",
       "      <td>50</td>\n",
       "      <td>0.126645</td>\n",
       "    </tr>\n",
       "    <tr>\n",
       "      <th>213</th>\n",
       "      <td>cbow</td>\n",
       "      <td>10</td>\n",
       "      <td>300</td>\n",
       "      <td>30</td>\n",
       "      <td>1701</td>\n",
       "      <td>10</td>\n",
       "      <td>0.078750</td>\n",
       "    </tr>\n",
       "    <tr>\n",
       "      <th>214</th>\n",
       "      <td>cbow</td>\n",
       "      <td>10</td>\n",
       "      <td>300</td>\n",
       "      <td>30</td>\n",
       "      <td>1701</td>\n",
       "      <td>30</td>\n",
       "      <td>0.110575</td>\n",
       "    </tr>\n",
       "    <tr>\n",
       "      <th>215</th>\n",
       "      <td>cbow</td>\n",
       "      <td>10</td>\n",
       "      <td>300</td>\n",
       "      <td>30</td>\n",
       "      <td>1701</td>\n",
       "      <td>50</td>\n",
       "      <td>0.129881</td>\n",
       "    </tr>\n",
       "  </tbody>\n",
       "</table>\n",
       "<p>216 rows × 7 columns</p>\n",
       "</div>"
      ],
      "text/plain": [
       "    algorithm  window  vector size  epochs  corpus size  min count  accuracy\n",
       "0    skipgram       2           50      10          850         10  0.019171\n",
       "1    skipgram       2           50      10          850         30  0.027940\n",
       "2    skipgram       2           50      10          850         50  0.033333\n",
       "3    skipgram       2           50      10         1701         10  0.022657\n",
       "4    skipgram       2           50      10         1701         30  0.031580\n",
       "..        ...     ...          ...     ...          ...        ...       ...\n",
       "211      cbow      10          300      30          850         30  0.105843\n",
       "212      cbow      10          300      30          850         50  0.126645\n",
       "213      cbow      10          300      30         1701         10  0.078750\n",
       "214      cbow      10          300      30         1701         30  0.110575\n",
       "215      cbow      10          300      30         1701         50  0.129881\n",
       "\n",
       "[216 rows x 7 columns]"
      ]
     },
     "execution_count": 23,
     "metadata": {},
     "output_type": "execute_result"
    }
   ],
   "source": [
    "accuracy_df = test_models(params)\n",
    "accuracy_df"
   ]
  },
  {
   "cell_type": "markdown",
   "id": "bcbe041c",
   "metadata": {},
   "source": [
    "You can see below the best achieved results for each algorithm. Skipgram had a maximum of 36.8% of accuracy rate while cbow only achieved about 13.8% accuracy."
   ]
  },
  {
   "cell_type": "code",
   "execution_count": 24,
   "id": "f6fac023",
   "metadata": {},
   "outputs": [
    {
     "name": "stdout",
     "output_type": "stream",
     "text": [
      "Skipgram:\n",
      "Max accuracy: 0.3687162891046386\tAverage accuracy: 0.14994445909248685\n",
      "\n",
      "Cbow:\n",
      "Max accuracy: 0.1382955771305286\tAverage accuracy: 0.052833369841598594\n",
      "\n"
     ]
    }
   ],
   "source": [
    "print('Skipgram:')\n",
    "skigram_group = accuracy_df[accuracy_df.algorithm == 'skipgram']\n",
    "print('Max accuracy: {}\\tAverage accuracy: {}\\n'.format(skigram_group.accuracy.max(), skigram_group.accuracy.mean()))\n",
    "\n",
    "print('Cbow:')\n",
    "cbow_group = accuracy_df[accuracy_df.algorithm == 'cbow']\n",
    "print('Max accuracy: {}\\tAverage accuracy: {}\\n'.format(cbow_group.accuracy.max(), cbow_group.accuracy.mean()))"
   ]
  },
  {
   "cell_type": "markdown",
   "id": "b7c266a2",
   "metadata": {},
   "source": [
    "## Hyperparameter study"
   ]
  },
  {
   "cell_type": "markdown",
   "id": "d03e2e9f",
   "metadata": {},
   "source": [
    "With our accuracy data gathered, we can visualize how each paremeter affected the average accuracy obtained on the figures below."
   ]
  },
  {
   "cell_type": "code",
   "execution_count": 25,
   "id": "7cf4eb9c",
   "metadata": {
    "scrolled": false
   },
   "outputs": [],
   "source": [
    "def plot_influence(param, dataframe):\n",
    "    skipgram_data = dataframe[dataframe.algorithm == 'skipgram'].groupby(param).mean()\n",
    "    cbow_data = dataframe[dataframe.algorithm == 'cbow'].groupby(param).mean()\n",
    "    \n",
    "    plt.title('Influence of {} in model accuracy'.format(param))\n",
    "    plt.xlabel(param)\n",
    "    plt.ylabel('accuracy')\n",
    "    plt.plot(cbow_data['accuracy'], label='cbow')\n",
    "    plt.scatter(x=dataframe[param].unique(), y=cbow_data['accuracy'])\n",
    "    plt.plot(skipgram_data['accuracy'], label='skipgram', color='red')\n",
    "    plt.scatter(x=dataframe[param].unique(), y=skipgram_data['accuracy'], color='red')\n",
    "    plt.legend()\n",
    "    \n",
    "def parameter_variance(params, dataframe):\n",
    "    data = pd.DataFrame(columns=['param', 'variance'])\n",
    "    \n",
    "    plt.title('Variance of accuracy for each parameter')\n",
    "    plt.ylabel('accuracy')\n",
    "    for param in params:\n",
    "        group = dataframe.groupby(param).mean()\n",
    "        variance = group['accuracy'].var()\n",
    "        data = data.append({'param': param, 'variance': variance}, ignore_index=True)\n",
    "        \n",
    "    plt.bar(range(len(params)), data['variance'], tick_label=params)"
   ]
  },
  {
   "cell_type": "code",
   "execution_count": 26,
   "id": "6fe2e046",
   "metadata": {
    "scrolled": false
   },
   "outputs": [
    {
     "data": {
      "image/png": "[encoded data removed]",
      "text/plain": [
       "<Figure size 1000x1200 with 5 Axes>"
      ]
     },
     "metadata": {
      "needs_background": "light"
     },
     "output_type": "display_data"
    }
   ],
   "source": [
    "plt.figure(figsize=(10, 12), dpi=100)\n",
    "params = ['epochs', 'window', 'min count', 'corpus size', 'vector size']\n",
    "\n",
    "for i in range(len(params)):\n",
    "    plt.subplot(3, 2, i+1)\n",
    "    plot_influence(params[i], accuracy_df)\n",
    "    \n",
    "plt.subplots_adjust(hspace = .4)\n",
    "plt.show()\n",
    "\n",
    "plt.show()"
   ]
  },
  {
   "cell_type": "markdown",
   "id": "b534c44f",
   "metadata": {},
   "source": [
    "As we can see, for both algorithms the number of the epochs, the size of the context window and the min count had a much greater impact in overall accuracy, while vector size and corpus size created a smaller variation on the results. We can comprove this tendency with the following plot of the variance for each parameter.\n",
    "\n",
    "Moreover, as the vector size increases, the average accuracy decreases for the cbow algorithm. This could be an indicator of overfitting, as we try to extreact a large number of features from a limited corpus."
   ]
  },
  {
   "cell_type": "code",
   "execution_count": 27,
   "id": "409ed943",
   "metadata": {},
   "outputs": [
    {
     "data": {
      "image/png": "[encoded data removed]",
      "text/plain": [
       "<Figure size 1000x400 with 1 Axes>"
      ]
     },
     "metadata": {
      "needs_background": "light"
     },
     "output_type": "display_data"
    }
   ],
   "source": [
    "plt.figure(figsize=(10, 4), dpi=100)\n",
    "parameter_variance(params, accuracy_df)\n",
    "plt.show()"
   ]
  },
  {
   "cell_type": "markdown",
   "id": "ed9d012c",
   "metadata": {},
   "source": [
    "With this data, we can prioritize the variation of the most relevant params and set a constant value for the remaining ones.\n",
    "\n",
    "For the skipgram algorithm, we will use a vector size of 100 and our entire corpus while using values between 30 and 70 for the min count, 20 and 60 for the number of epochs and 5 and 10 for window sizes. We will do the same for the cbow algorithm, except we will use 50 for vector size instead of 100, since it gave us a beter accuracy."
   ]
  },
  {
   "cell_type": "code",
   "execution_count": 28,
   "id": "8af4f1a3",
   "metadata": {},
   "outputs": [
    {
     "name": "stdout",
     "output_type": "stream",
     "text": [
      "Training skipgram models:\n",
      "[====================] 100%\n",
      "Took 0 hours and 0 minutes to make 18 skipgram models\n"
     ]
    }
   ],
   "source": [
    "vector_sizes = [100]\n",
    "windows = [5, 10]\n",
    "min_counts = [30, 50, 70]\n",
    "corpus_sizes = [len(sentences)]\n",
    "epochs = [20, 30, 60]\n",
    "skipgram_params = [list(i) for i in itertools.product(windows, vector_sizes, epochs, corpus_sizes, min_counts)]\n",
    "\n",
    "train_with_params(sentences, 1, skipgram_params)"
   ]
  },
  {
   "cell_type": "code",
   "execution_count": 29,
   "id": "efda3577",
   "metadata": {},
   "outputs": [
    {
     "name": "stdout",
     "output_type": "stream",
     "text": [
      "Training cbow models:\n",
      "[====================] 100%\n",
      "Took 0 hours and 0 minutes to make 18 cbow models\n"
     ]
    }
   ],
   "source": [
    "vector_sizes = [50]\n",
    "windows = [5, 10]\n",
    "min_counts = [30, 50, 70]\n",
    "corpus_sizes = [len(sentences)]\n",
    "epochs = [20, 30, 60]\n",
    "cbow_params = [list(i) for i in itertools.product(windows, vector_sizes, epochs, corpus_sizes, min_counts)]\n",
    "\n",
    "train_with_params(sentences, 0, cbow_params)"
   ]
  },
  {
   "cell_type": "markdown",
   "id": "e8018aec",
   "metadata": {},
   "source": [
    "Now lets see how this changes our obtained maximum and average accuracy:"
   ]
  },
  {
   "cell_type": "code",
   "execution_count": 30,
   "id": "530634f6",
   "metadata": {},
   "outputs": [
    {
     "data": {
      "text/html": [
       "<div>\n",
       "<style scoped>\n",
       "    .dataframe tbody tr th:only-of-type {\n",
       "        vertical-align: middle;\n",
       "    }\n",
       "\n",
       "    .dataframe tbody tr th {\n",
       "        vertical-align: top;\n",
       "    }\n",
       "\n",
       "    .dataframe thead th {\n",
       "        text-align: right;\n",
       "    }\n",
       "</style>\n",
       "<table border=\"1\" class=\"dataframe\">\n",
       "  <thead>\n",
       "    <tr style=\"text-align: right;\">\n",
       "      <th></th>\n",
       "      <th>algorithm</th>\n",
       "      <th>window</th>\n",
       "      <th>vector size</th>\n",
       "      <th>epochs</th>\n",
       "      <th>corpus size</th>\n",
       "      <th>min count</th>\n",
       "      <th>accuracy</th>\n",
       "    </tr>\n",
       "  </thead>\n",
       "  <tbody>\n",
       "    <tr>\n",
       "      <th>0</th>\n",
       "      <td>skipgram</td>\n",
       "      <td>5</td>\n",
       "      <td>100</td>\n",
       "      <td>20</td>\n",
       "      <td>1701</td>\n",
       "      <td>30</td>\n",
       "      <td>0.177921</td>\n",
       "    </tr>\n",
       "    <tr>\n",
       "      <th>1</th>\n",
       "      <td>skipgram</td>\n",
       "      <td>5</td>\n",
       "      <td>100</td>\n",
       "      <td>20</td>\n",
       "      <td>1701</td>\n",
       "      <td>50</td>\n",
       "      <td>0.205825</td>\n",
       "    </tr>\n",
       "    <tr>\n",
       "      <th>2</th>\n",
       "      <td>skipgram</td>\n",
       "      <td>5</td>\n",
       "      <td>100</td>\n",
       "      <td>20</td>\n",
       "      <td>1701</td>\n",
       "      <td>70</td>\n",
       "      <td>0.242788</td>\n",
       "    </tr>\n",
       "    <tr>\n",
       "      <th>3</th>\n",
       "      <td>skipgram</td>\n",
       "      <td>5</td>\n",
       "      <td>100</td>\n",
       "      <td>30</td>\n",
       "      <td>1701</td>\n",
       "      <td>30</td>\n",
       "      <td>0.249090</td>\n",
       "    </tr>\n",
       "    <tr>\n",
       "      <th>4</th>\n",
       "      <td>skipgram</td>\n",
       "      <td>5</td>\n",
       "      <td>100</td>\n",
       "      <td>30</td>\n",
       "      <td>1701</td>\n",
       "      <td>50</td>\n",
       "      <td>0.290076</td>\n",
       "    </tr>\n",
       "    <tr>\n",
       "      <th>5</th>\n",
       "      <td>skipgram</td>\n",
       "      <td>5</td>\n",
       "      <td>100</td>\n",
       "      <td>30</td>\n",
       "      <td>1701</td>\n",
       "      <td>70</td>\n",
       "      <td>0.334739</td>\n",
       "    </tr>\n",
       "    <tr>\n",
       "      <th>6</th>\n",
       "      <td>skipgram</td>\n",
       "      <td>5</td>\n",
       "      <td>100</td>\n",
       "      <td>60</td>\n",
       "      <td>1701</td>\n",
       "      <td>30</td>\n",
       "      <td>0.354478</td>\n",
       "    </tr>\n",
       "    <tr>\n",
       "      <th>7</th>\n",
       "      <td>skipgram</td>\n",
       "      <td>5</td>\n",
       "      <td>100</td>\n",
       "      <td>60</td>\n",
       "      <td>1701</td>\n",
       "      <td>50</td>\n",
       "      <td>0.407659</td>\n",
       "    </tr>\n",
       "    <tr>\n",
       "      <th>8</th>\n",
       "      <td>skipgram</td>\n",
       "      <td>5</td>\n",
       "      <td>100</td>\n",
       "      <td>60</td>\n",
       "      <td>1701</td>\n",
       "      <td>70</td>\n",
       "      <td>0.449084</td>\n",
       "    </tr>\n",
       "    <tr>\n",
       "      <th>9</th>\n",
       "      <td>skipgram</td>\n",
       "      <td>10</td>\n",
       "      <td>100</td>\n",
       "      <td>20</td>\n",
       "      <td>1701</td>\n",
       "      <td>30</td>\n",
       "      <td>0.250546</td>\n",
       "    </tr>\n",
       "    <tr>\n",
       "      <th>10</th>\n",
       "      <td>skipgram</td>\n",
       "      <td>10</td>\n",
       "      <td>100</td>\n",
       "      <td>20</td>\n",
       "      <td>1701</td>\n",
       "      <td>50</td>\n",
       "      <td>0.289320</td>\n",
       "    </tr>\n",
       "    <tr>\n",
       "      <th>11</th>\n",
       "      <td>skipgram</td>\n",
       "      <td>10</td>\n",
       "      <td>100</td>\n",
       "      <td>20</td>\n",
       "      <td>1701</td>\n",
       "      <td>70</td>\n",
       "      <td>0.330523</td>\n",
       "    </tr>\n",
       "    <tr>\n",
       "      <th>12</th>\n",
       "      <td>skipgram</td>\n",
       "      <td>10</td>\n",
       "      <td>100</td>\n",
       "      <td>30</td>\n",
       "      <td>1701</td>\n",
       "      <td>30</td>\n",
       "      <td>0.312250</td>\n",
       "    </tr>\n",
       "    <tr>\n",
       "      <th>13</th>\n",
       "      <td>skipgram</td>\n",
       "      <td>10</td>\n",
       "      <td>100</td>\n",
       "      <td>30</td>\n",
       "      <td>1701</td>\n",
       "      <td>50</td>\n",
       "      <td>0.363538</td>\n",
       "    </tr>\n",
       "    <tr>\n",
       "      <th>14</th>\n",
       "      <td>skipgram</td>\n",
       "      <td>10</td>\n",
       "      <td>100</td>\n",
       "      <td>30</td>\n",
       "      <td>1701</td>\n",
       "      <td>70</td>\n",
       "      <td>0.398893</td>\n",
       "    </tr>\n",
       "    <tr>\n",
       "      <th>15</th>\n",
       "      <td>skipgram</td>\n",
       "      <td>10</td>\n",
       "      <td>100</td>\n",
       "      <td>60</td>\n",
       "      <td>1701</td>\n",
       "      <td>30</td>\n",
       "      <td>0.395704</td>\n",
       "    </tr>\n",
       "    <tr>\n",
       "      <th>16</th>\n",
       "      <td>skipgram</td>\n",
       "      <td>10</td>\n",
       "      <td>100</td>\n",
       "      <td>60</td>\n",
       "      <td>1701</td>\n",
       "      <td>50</td>\n",
       "      <td>0.452535</td>\n",
       "    </tr>\n",
       "    <tr>\n",
       "      <th>17</th>\n",
       "      <td>skipgram</td>\n",
       "      <td>10</td>\n",
       "      <td>100</td>\n",
       "      <td>60</td>\n",
       "      <td>1701</td>\n",
       "      <td>70</td>\n",
       "      <td>0.488210</td>\n",
       "    </tr>\n",
       "  </tbody>\n",
       "</table>\n",
       "</div>"
      ],
      "text/plain": [
       "   algorithm  window  vector size  epochs  corpus size  min count  accuracy\n",
       "0   skipgram       5          100      20         1701         30  0.177921\n",
       "1   skipgram       5          100      20         1701         50  0.205825\n",
       "2   skipgram       5          100      20         1701         70  0.242788\n",
       "3   skipgram       5          100      30         1701         30  0.249090\n",
       "4   skipgram       5          100      30         1701         50  0.290076\n",
       "5   skipgram       5          100      30         1701         70  0.334739\n",
       "6   skipgram       5          100      60         1701         30  0.354478\n",
       "7   skipgram       5          100      60         1701         50  0.407659\n",
       "8   skipgram       5          100      60         1701         70  0.449084\n",
       "9   skipgram      10          100      20         1701         30  0.250546\n",
       "10  skipgram      10          100      20         1701         50  0.289320\n",
       "11  skipgram      10          100      20         1701         70  0.330523\n",
       "12  skipgram      10          100      30         1701         30  0.312250\n",
       "13  skipgram      10          100      30         1701         50  0.363538\n",
       "14  skipgram      10          100      30         1701         70  0.398893\n",
       "15  skipgram      10          100      60         1701         30  0.395704\n",
       "16  skipgram      10          100      60         1701         50  0.452535\n",
       "17  skipgram      10          100      60         1701         70  0.488210"
      ]
     },
     "execution_count": 30,
     "metadata": {},
     "output_type": "execute_result"
    }
   ],
   "source": [
    "skipgram_df = test_models(skipgram_params, 'accuracy-skipgram.csv')\n",
    "skipgram_df = skipgram_df.drop(skipgram_df[skipgram_df.algorithm == 'cbow'].index)\n",
    "\n",
    "skipgram_df"
   ]
  },
  {
   "cell_type": "code",
   "execution_count": 31,
   "id": "ec7e5dc5",
   "metadata": {},
   "outputs": [
    {
     "data": {
      "text/html": [
       "<div>\n",
       "<style scoped>\n",
       "    .dataframe tbody tr th:only-of-type {\n",
       "        vertical-align: middle;\n",
       "    }\n",
       "\n",
       "    .dataframe tbody tr th {\n",
       "        vertical-align: top;\n",
       "    }\n",
       "\n",
       "    .dataframe thead th {\n",
       "        text-align: right;\n",
       "    }\n",
       "</style>\n",
       "<table border=\"1\" class=\"dataframe\">\n",
       "  <thead>\n",
       "    <tr style=\"text-align: right;\">\n",
       "      <th></th>\n",
       "      <th>algorithm</th>\n",
       "      <th>window</th>\n",
       "      <th>vector size</th>\n",
       "      <th>epochs</th>\n",
       "      <th>corpus size</th>\n",
       "      <th>min count</th>\n",
       "      <th>accuracy</th>\n",
       "    </tr>\n",
       "  </thead>\n",
       "  <tbody>\n",
       "    <tr>\n",
       "      <th>8</th>\n",
       "      <td>cbow</td>\n",
       "      <td>5</td>\n",
       "      <td>50</td>\n",
       "      <td>20</td>\n",
       "      <td>1701</td>\n",
       "      <td>30</td>\n",
       "      <td>0.056516</td>\n",
       "    </tr>\n",
       "    <tr>\n",
       "      <th>9</th>\n",
       "      <td>cbow</td>\n",
       "      <td>5</td>\n",
       "      <td>50</td>\n",
       "      <td>20</td>\n",
       "      <td>1701</td>\n",
       "      <td>50</td>\n",
       "      <td>0.066235</td>\n",
       "    </tr>\n",
       "    <tr>\n",
       "      <th>10</th>\n",
       "      <td>cbow</td>\n",
       "      <td>5</td>\n",
       "      <td>50</td>\n",
       "      <td>20</td>\n",
       "      <td>1701</td>\n",
       "      <td>70</td>\n",
       "      <td>0.075748</td>\n",
       "    </tr>\n",
       "    <tr>\n",
       "      <th>11</th>\n",
       "      <td>cbow</td>\n",
       "      <td>5</td>\n",
       "      <td>50</td>\n",
       "      <td>30</td>\n",
       "      <td>1701</td>\n",
       "      <td>30</td>\n",
       "      <td>0.095650</td>\n",
       "    </tr>\n",
       "    <tr>\n",
       "      <th>12</th>\n",
       "      <td>cbow</td>\n",
       "      <td>5</td>\n",
       "      <td>50</td>\n",
       "      <td>30</td>\n",
       "      <td>1701</td>\n",
       "      <td>50</td>\n",
       "      <td>0.112513</td>\n",
       "    </tr>\n",
       "    <tr>\n",
       "      <th>13</th>\n",
       "      <td>cbow</td>\n",
       "      <td>5</td>\n",
       "      <td>50</td>\n",
       "      <td>30</td>\n",
       "      <td>1701</td>\n",
       "      <td>70</td>\n",
       "      <td>0.131076</td>\n",
       "    </tr>\n",
       "    <tr>\n",
       "      <th>14</th>\n",
       "      <td>cbow</td>\n",
       "      <td>5</td>\n",
       "      <td>50</td>\n",
       "      <td>60</td>\n",
       "      <td>1701</td>\n",
       "      <td>30</td>\n",
       "      <td>0.195759</td>\n",
       "    </tr>\n",
       "    <tr>\n",
       "      <th>15</th>\n",
       "      <td>cbow</td>\n",
       "      <td>5</td>\n",
       "      <td>50</td>\n",
       "      <td>60</td>\n",
       "      <td>1701</td>\n",
       "      <td>50</td>\n",
       "      <td>0.232039</td>\n",
       "    </tr>\n",
       "    <tr>\n",
       "      <th>16</th>\n",
       "      <td>cbow</td>\n",
       "      <td>5</td>\n",
       "      <td>50</td>\n",
       "      <td>60</td>\n",
       "      <td>1701</td>\n",
       "      <td>70</td>\n",
       "      <td>0.264392</td>\n",
       "    </tr>\n",
       "    <tr>\n",
       "      <th>17</th>\n",
       "      <td>cbow</td>\n",
       "      <td>10</td>\n",
       "      <td>50</td>\n",
       "      <td>20</td>\n",
       "      <td>1701</td>\n",
       "      <td>30</td>\n",
       "      <td>0.074536</td>\n",
       "    </tr>\n",
       "    <tr>\n",
       "      <th>18</th>\n",
       "      <td>cbow</td>\n",
       "      <td>10</td>\n",
       "      <td>50</td>\n",
       "      <td>20</td>\n",
       "      <td>1701</td>\n",
       "      <td>50</td>\n",
       "      <td>0.089968</td>\n",
       "    </tr>\n",
       "    <tr>\n",
       "      <th>19</th>\n",
       "      <td>cbow</td>\n",
       "      <td>10</td>\n",
       "      <td>50</td>\n",
       "      <td>20</td>\n",
       "      <td>1701</td>\n",
       "      <td>70</td>\n",
       "      <td>0.103939</td>\n",
       "    </tr>\n",
       "    <tr>\n",
       "      <th>20</th>\n",
       "      <td>cbow</td>\n",
       "      <td>10</td>\n",
       "      <td>50</td>\n",
       "      <td>30</td>\n",
       "      <td>1701</td>\n",
       "      <td>30</td>\n",
       "      <td>0.120222</td>\n",
       "    </tr>\n",
       "    <tr>\n",
       "      <th>21</th>\n",
       "      <td>cbow</td>\n",
       "      <td>10</td>\n",
       "      <td>50</td>\n",
       "      <td>30</td>\n",
       "      <td>1701</td>\n",
       "      <td>50</td>\n",
       "      <td>0.138296</td>\n",
       "    </tr>\n",
       "    <tr>\n",
       "      <th>22</th>\n",
       "      <td>cbow</td>\n",
       "      <td>10</td>\n",
       "      <td>50</td>\n",
       "      <td>30</td>\n",
       "      <td>1701</td>\n",
       "      <td>70</td>\n",
       "      <td>0.166250</td>\n",
       "    </tr>\n",
       "    <tr>\n",
       "      <th>23</th>\n",
       "      <td>cbow</td>\n",
       "      <td>10</td>\n",
       "      <td>50</td>\n",
       "      <td>60</td>\n",
       "      <td>1701</td>\n",
       "      <td>30</td>\n",
       "      <td>0.229705</td>\n",
       "    </tr>\n",
       "    <tr>\n",
       "      <th>24</th>\n",
       "      <td>cbow</td>\n",
       "      <td>10</td>\n",
       "      <td>50</td>\n",
       "      <td>60</td>\n",
       "      <td>1701</td>\n",
       "      <td>50</td>\n",
       "      <td>0.264293</td>\n",
       "    </tr>\n",
       "    <tr>\n",
       "      <th>25</th>\n",
       "      <td>cbow</td>\n",
       "      <td>10</td>\n",
       "      <td>50</td>\n",
       "      <td>60</td>\n",
       "      <td>1701</td>\n",
       "      <td>70</td>\n",
       "      <td>0.297458</td>\n",
       "    </tr>\n",
       "  </tbody>\n",
       "</table>\n",
       "</div>"
      ],
      "text/plain": [
       "   algorithm  window  vector size  epochs  corpus size  min count  accuracy\n",
       "8       cbow       5           50      20         1701         30  0.056516\n",
       "9       cbow       5           50      20         1701         50  0.066235\n",
       "10      cbow       5           50      20         1701         70  0.075748\n",
       "11      cbow       5           50      30         1701         30  0.095650\n",
       "12      cbow       5           50      30         1701         50  0.112513\n",
       "13      cbow       5           50      30         1701         70  0.131076\n",
       "14      cbow       5           50      60         1701         30  0.195759\n",
       "15      cbow       5           50      60         1701         50  0.232039\n",
       "16      cbow       5           50      60         1701         70  0.264392\n",
       "17      cbow      10           50      20         1701         30  0.074536\n",
       "18      cbow      10           50      20         1701         50  0.089968\n",
       "19      cbow      10           50      20         1701         70  0.103939\n",
       "20      cbow      10           50      30         1701         30  0.120222\n",
       "21      cbow      10           50      30         1701         50  0.138296\n",
       "22      cbow      10           50      30         1701         70  0.166250\n",
       "23      cbow      10           50      60         1701         30  0.229705\n",
       "24      cbow      10           50      60         1701         50  0.264293\n",
       "25      cbow      10           50      60         1701         70  0.297458"
      ]
     },
     "execution_count": 31,
     "metadata": {},
     "output_type": "execute_result"
    }
   ],
   "source": [
    "cbow_df = test_models(cbow_params, 'accuracy-cbow.csv')\n",
    "cbow_df = cbow_df.drop(cbow_df[cbow_df.algorithm == 'skipgram'].index)\n",
    "\n",
    "cbow_df"
   ]
  },
  {
   "cell_type": "code",
   "execution_count": 32,
   "id": "3b21cf79",
   "metadata": {},
   "outputs": [
    {
     "name": "stdout",
     "output_type": "stream",
     "text": [
      "Skipgram:\n",
      "Max accuracy: 0.488209722039257 \tAverage accuracy: 0.3329544049317867\n",
      "\n",
      "Cbow:\n",
      "Max accuracy: 0.2974575154788565\tAverage accuracy: 0.15081077725330802\n",
      "\n"
     ]
    }
   ],
   "source": [
    "print('Skipgram:')\n",
    "print('Max accuracy: {} \\tAverage accuracy: {}\\n'.format(skipgram_df.accuracy.max(), skipgram_df.accuracy.mean()))\n",
    "\n",
    "print('Cbow:')\n",
    "print('Max accuracy: {}\\tAverage accuracy: {}\\n'.format(cbow_df.accuracy.max(), cbow_df.accuracy.mean()))"
   ]
  },
  {
   "cell_type": "markdown",
   "id": "b90c8895",
   "metadata": {},
   "source": [
    "Now that we know which hyperparameters to tune, not only we got a much faster training, but we also got a hgher average and maximum accuracy. Now all one got to do is to choose which values will better suit each use case. A higher min count will lead to more recise results at the cost of a smaller vocabulary, so some words that are recognized at min_count = 10 could not exist at min_count = 70. In the example below, ou can see how the word feline is present in model A, but is not in model B, so adjust your min count properly according to your corpus size."
   ]
  },
  {
   "cell_type": "code",
   "execution_count": 39,
   "id": "ec5b9447",
   "metadata": {},
   "outputs": [
    {
     "name": "stdout",
     "output_type": "stream",
     "text": [
      "Model A: felines\n",
      "Model B: feline is not present :(\n"
     ]
    }
   ],
   "source": [
    "build_if_not_exists(sentences, corpus_size = len(sentences), sg=1, window=10, vector_size=100, epochs=10, min_count=10)\n",
    "build_if_not_exists(sentences, corpus_size = len(sentences), sg=1, window=10, vector_size=100, epochs=10, min_count=70)\n",
    "\n",
    "model_a = get_model(corpus_size=len(sentences), sg=1, window=10, vector_size=100, epochs=10, min_count=10)\n",
    "model_b = get_model(corpus_size=len(sentences), sg=1, window=10, vector_size=100, epochs=10, min_count=70)\n",
    "\n",
    "word = 'feline'\n",
    "\n",
    "print('Model A: {}'.format(model_a.most_similar(word)[0][0]))\n",
    "\n",
    "try:\n",
    "    print('Model B: {}'.format(model_b.most_similar(word)[0][0]))\n",
    "    print()\n",
    "except KeyError:\n",
    "    print('Model B: feline is not present :(')"
   ]
  },
  {
   "cell_type": "markdown",
   "id": "2fbc9657",
   "metadata": {},
   "source": [
    "We could also see how a large vector size can cause overfiting on a smaller corpus especially when using cbow, and how a larger number of epochs can increase accuracy but it also makes training slower."
   ]
  }
 ],
 "metadata": {
  "kernelspec": {
   "display_name": "Python 3 (ipykernel)",
   "language": "python",
   "name": "python3"
  },
  "language_info": {
   "codemirror_mode": {
    "name": "ipython",
    "version": 3
   },
   "file_extension": ".py",
   "mimetype": "text/x-python",
   "name": "python",
   "nbconvert_exporter": "python",
   "pygments_lexer": "ipython3",
   "version": "3.9.9"
  }
 },
 "nbformat": 4,
 "nbformat_minor": 5
}
